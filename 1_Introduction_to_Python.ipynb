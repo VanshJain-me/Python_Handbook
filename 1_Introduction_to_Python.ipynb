{
  "nbformat": 4,
  "nbformat_minor": 0,
  "metadata": {
    "colab": {
      "name": "1. Introduction to Python.ipynb",
      "provenance": [],
      "authorship_tag": "ABX9TyOnA+V+aOw8GOaYhhVhHzk0",
      "include_colab_link": true
    },
    "kernelspec": {
      "name": "python3",
      "display_name": "Python 3"
    }
  },
  "cells": [
    {
      "cell_type": "markdown",
      "metadata": {
        "id": "view-in-github",
        "colab_type": "text"
      },
      "source": [
        "<a href=\"https://colab.research.google.com/github/VanshJain-me/python_handbook/blob/main/1_Introduction_to_Python.ipynb\" target=\"_parent\"><img src=\"https://colab.research.google.com/assets/colab-badge.svg\" alt=\"Open In Colab\"/></a>"
      ]
    },
    {
      "cell_type": "markdown",
      "metadata": {
        "id": "FMPCZN0hct7R"
      },
      "source": [
        "#The print() function\r\n",
        "\r\n",
        "The print function helps display text on the screen."
      ]
    },
    {
      "cell_type": "code",
      "metadata": {
        "colab": {
          "base_uri": "https://localhost:8080/"
        },
        "id": "FX7L1TV4chrZ",
        "outputId": "976812b8-75ac-49d8-affb-81bdd3f27816"
      },
      "source": [
        "print('Hello, World!')"
      ],
      "execution_count": 1,
      "outputs": [
        {
          "output_type": "stream",
          "text": [
            "Hello, World!\n"
          ],
          "name": "stdout"
        }
      ]
    },
    {
      "cell_type": "markdown",
      "metadata": {
        "id": "0tyEr8zFdzAF"
      },
      "source": [
        "# The input() function\r\n",
        "The input function is used to capture data from the user."
      ]
    },
    {
      "cell_type": "code",
      "metadata": {
        "colab": {
          "base_uri": "https://localhost:8080/",
          "height": 52
        },
        "id": "hxoY9w-_cleT",
        "outputId": "5eb586e5-b23a-4256-823f-b49c1780effc"
      },
      "source": [
        "input('What is your name? ')"
      ],
      "execution_count": 2,
      "outputs": [
        {
          "output_type": "stream",
          "text": [
            "What is your name? Vansh Jain\n"
          ],
          "name": "stdout"
        },
        {
          "output_type": "execute_result",
          "data": {
            "application/vnd.google.colaboratory.intrinsic+json": {
              "type": "string"
            },
            "text/plain": [
              "'Vansh Jain'"
            ]
          },
          "metadata": {
            "tags": []
          },
          "execution_count": 2
        }
      ]
    },
    {
      "cell_type": "markdown",
      "metadata": {
        "id": "p80ZPDPreTuo"
      },
      "source": [
        "# Variables\r\n",
        "\r\n",
        "Variables are used to commit data to the memory of the system.\r\n",
        "\r\n",
        "Variables can be given data using the = sign.\r\n",
        "\r\n",
        "Variables data can be printed by mentioning the variable name inside the print \r\n",
        "function."
      ]
    },
    {
      "cell_type": "code",
      "metadata": {
        "colab": {
          "base_uri": "https://localhost:8080/"
        },
        "id": "8T3k0cEHdvRB",
        "outputId": "18147174-e298-4dd0-c1dd-652bc707e1c6"
      },
      "source": [
        "name = input('What is your name? ')\r\n",
        "print(name)"
      ],
      "execution_count": 3,
      "outputs": [
        {
          "output_type": "stream",
          "text": [
            "What is your name? Vansh Jain\n",
            "Vansh Jain\n"
          ],
          "name": "stdout"
        }
      ]
    },
    {
      "cell_type": "markdown",
      "metadata": {
        "id": "YfEmk-wweg6N"
      },
      "source": [
        "# Printing text and variable data together\r\n",
        "\r\n",
        "Text and Variable data can be shown together using the + sign."
      ]
    },
    {
      "cell_type": "code",
      "metadata": {
        "colab": {
          "base_uri": "https://localhost:8080/"
        },
        "id": "Qc9FpJfeeQ8f",
        "outputId": "0b786374-5358-4af2-caf5-31f3dcd29478"
      },
      "source": [
        "print('Hello, '+ name)"
      ],
      "execution_count": 4,
      "outputs": [
        {
          "output_type": "stream",
          "text": [
            "Hello, Vansh Jain\n"
          ],
          "name": "stdout"
        }
      ]
    }
  ]
}