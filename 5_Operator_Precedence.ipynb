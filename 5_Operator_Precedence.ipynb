{
  "nbformat": 4,
  "nbformat_minor": 0,
  "metadata": {
    "colab": {
      "name": "5. Operator Precedence.ipynb",
      "provenance": [],
      "authorship_tag": "ABX9TyOcT3f+QYo7T49LoMrsbrxh",
      "include_colab_link": true
    },
    "kernelspec": {
      "name": "python3",
      "display_name": "Python 3"
    }
  },
  "cells": [
    {
      "cell_type": "markdown",
      "metadata": {
        "id": "view-in-github",
        "colab_type": "text"
      },
      "source": [
        "<a href=\"https://colab.research.google.com/github/VanshJain-me/python_handbook/blob/main/5_Operator_Precedence.ipynb\" target=\"_parent\"><img src=\"https://colab.research.google.com/assets/colab-badge.svg\" alt=\"Open In Colab\"/></a>"
      ]
    },
    {
      "cell_type": "markdown",
      "metadata": {
        "id": "6bx7L4yxmncA"
      },
      "source": [
        "# Operator Precedence\r\n",
        "\r\n",
        "Operator precedence determines the order of execution of operations. It is the same as in mathematics.\r\n",
        "\r\n",
        "The order of precedence is:\r\n",
        "  1. Bracket Evaluation ()\r\n",
        "  2. Exponentiation **\r\n",
        "  3. Multiplication *, Division /\r\n",
        "  4. Addition +, Subtraction -"
      ]
    },
    {
      "cell_type": "code",
      "metadata": {
        "colab": {
          "base_uri": "https://localhost:8080/"
        },
        "id": "1jN6njoPmm_6",
        "outputId": "f2b58aa6-a7bc-4321-ec0b-6dff8f315db4"
      },
      "source": [
        "print((5 + 4) * 10 / 2)\r\n",
        "\r\n",
        "print(((5 + 4) * 10) / 2)\r\n",
        "\r\n",
        "print((5 + 4) * (10 / 2))\r\n",
        "\r\n",
        "print(5 + (4 * 10) / 2)\r\n",
        "\r\n",
        "print(5 + 4 * 10 // 2)"
      ],
      "execution_count": 1,
      "outputs": [
        {
          "output_type": "stream",
          "text": [
            "45.0\n",
            "45.0\n",
            "45.0\n",
            "25.0\n",
            "25\n"
          ],
          "name": "stdout"
        }
      ]
    }
  ]
}