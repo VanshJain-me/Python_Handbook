{
  "nbformat": 4,
  "nbformat_minor": 0,
  "metadata": {
    "colab": {
      "name": "Python Numbers.ipynb",
      "provenance": [],
      "authorship_tag": "ABX9TyOjzinn5bK03hrQXJDkUXbn",
      "include_colab_link": true
    },
    "kernelspec": {
      "name": "python3",
      "display_name": "Python 3"
    }
  },
  "cells": [
    {
      "cell_type": "markdown",
      "metadata": {
        "id": "view-in-github",
        "colab_type": "text"
      },
      "source": [
        "<a href=\"https://colab.research.google.com/github/VanshJain-me/python_handbook/blob/main/Python_Numbers.ipynb\" target=\"_parent\"><img src=\"https://colab.research.google.com/assets/colab-badge.svg\" alt=\"Open In Colab\"/></a>"
      ]
    },
    {
      "cell_type": "markdown",
      "metadata": {
        "id": "T0K8XlAaURo9"
      },
      "source": [
        "# Integers\r\n",
        "\r\n",
        "The integer data type in python represent whole numbers. They do not represent decimal values. They can undergo standard mathematical operations like addition, subtraction, multiplication, division, modulo, double division and exponentiation.\r\n",
        "\r\n",
        "## Modulo\r\n",
        "\r\n",
        "The modulo operator returns the remainder when two numbers are divided.\r\n",
        "\r\n",
        "## Double Division\r\n",
        "\r\n",
        "The double division operator returns the quotient when two numbers are divided. In essence, it is the result of the division is rounded down to the nearest integer."
      ]
    },
    {
      "cell_type": "code",
      "metadata": {
        "colab": {
          "base_uri": "https://localhost:8080/"
        },
        "id": "E5PqbMYTUSuR",
        "outputId": "eb156ec6-f2d7-4e16-9b23-8a235e8522ce"
      },
      "source": [
        "print(7 + 4) # addition\r\n",
        "print(7 - 4) # subtraction\r\n",
        "print(7 * 4) # multiplication\r\n",
        "print(7 / 4) # division\r\n",
        "print(7 % 4) # modulo\r\n",
        "print(7 // 4) # double division\r\n",
        "print(7 ** 4) # exponentiation"
      ],
      "execution_count": 1,
      "outputs": [
        {
          "output_type": "stream",
          "text": [
            "11\n",
            "3\n",
            "28\n",
            "1.75\n",
            "3\n",
            "1\n",
            "2401\n"
          ],
          "name": "stdout"
        }
      ]
    },
    {
      "cell_type": "markdown",
      "metadata": {
        "id": "v9qOKzJpW45d"
      },
      "source": [
        "# The type() function\r\n",
        "\r\n",
        "The type function determines the data type used."
      ]
    },
    {
      "cell_type": "code",
      "metadata": {
        "colab": {
          "base_uri": "https://localhost:8080/"
        },
        "id": "siLleKhtUhhY",
        "outputId": "05a847b4-98e6-4aea-c97a-f65e1abb5504"
      },
      "source": [
        "print(type(2 + 4))\r\n",
        "print(type(2 - 4))\r\n",
        "print(type(2 * 4))\r\n",
        "print(type(2 / 4))\r\n",
        "print(type(2 % 4))\r\n",
        "print(type(2 ** 4))"
      ],
      "execution_count": 2,
      "outputs": [
        {
          "output_type": "stream",
          "text": [
            "<class 'int'>\n",
            "<class 'int'>\n",
            "<class 'int'>\n",
            "<class 'float'>\n",
            "<class 'int'>\n",
            "<class 'int'>\n"
          ],
          "name": "stdout"
        }
      ]
    },
    {
      "cell_type": "markdown",
      "metadata": {
        "id": "ytiU_TIJeTLj"
      },
      "source": [
        "# Float\r\n",
        "\r\n",
        "The float data type in python can represent all numbers. They can represent decimal values and whole values. They can undergo standard mathematical operations like addition, subtraction, multiplication, division, modulo and exponentiation."
      ]
    },
    {
      "cell_type": "code",
      "metadata": {
        "colab": {
          "base_uri": "https://localhost:8080/"
        },
        "id": "kv_yX54CW3jR",
        "outputId": "d2305d44-62d2-41fa-8365-1b98c5d9ed22"
      },
      "source": [
        "print(2.1 + 4.2) # addition\r\n",
        "print(2.1 - 4.2) # subtraction\r\n",
        "print(2.1 * 4.2) # multiplication\r\n",
        "print(2.1 / 4.2) # division\r\n",
        "print(2.1 % 4.2) # modulo\r\n",
        "print(2.1 ** 4.2) # exponentiation"
      ],
      "execution_count": 3,
      "outputs": [
        {
          "output_type": "stream",
          "text": [
            "6.300000000000001\n",
            "-2.1\n",
            "8.82\n",
            "0.5\n",
            "2.1\n",
            "22.55906200252889\n"
          ],
          "name": "stdout"
        }
      ]
    },
    {
      "cell_type": "code",
      "metadata": {
        "colab": {
          "base_uri": "https://localhost:8080/"
        },
        "id": "Y5IRwUd-f4-x",
        "outputId": "ef30ed99-3cc4-4bb2-b144-a8c9f95797be"
      },
      "source": [
        "print(type(2.1 + 4.2))\r\n",
        "print(type(2.1 - 4.2))\r\n",
        "print(type(2.1 * 4.2))\r\n",
        "print(type(2.1 / 4.2))\r\n",
        "print(type(2.1 % 4.2))\r\n",
        "print(type(2.1 ** 4.2))"
      ],
      "execution_count": 4,
      "outputs": [
        {
          "output_type": "stream",
          "text": [
            "<class 'float'>\n",
            "<class 'float'>\n",
            "<class 'float'>\n",
            "<class 'float'>\n",
            "<class 'float'>\n",
            "<class 'float'>\n"
          ],
          "name": "stdout"
        }
      ]
    },
    {
      "cell_type": "markdown",
      "metadata": {
        "id": "PA4khckHfcZH"
      },
      "source": [
        "If you do not have a decimal value, yet you put a decimal, python will interpret it as float.\r\n",
        "\r\n",
        "If you add an integer to a float value, the resulting value will also be float."
      ]
    },
    {
      "cell_type": "code",
      "metadata": {
        "colab": {
          "base_uri": "https://localhost:8080/"
        },
        "id": "hSx-y-t_fbg9",
        "outputId": "9b1a8c97-3de1-47b5-fe69-088706c29107"
      },
      "source": [
        "print(type(2.0))\r\n",
        "print(type(1 + 2.2))"
      ],
      "execution_count": 5,
      "outputs": [
        {
          "output_type": "stream",
          "text": [
            "<class 'float'>\n",
            "<class 'float'>\n"
          ],
          "name": "stdout"
        }
      ]
    },
    {
      "cell_type": "markdown",
      "metadata": {
        "id": "Usbs2kUAnyix"
      },
      "source": [
        "# Complex\r\n",
        "\r\n",
        "The complex data type represents all real, imaginary and complex numbers. A complex number is a number consisting of real and imaginary parts. They can undergo standard mathematical operations like addition, subtraction, multiplication, division and exponentiation. Complex numbers cannot undergo the modulo operation."
      ]
    },
    {
      "cell_type": "code",
      "metadata": {
        "id": "2y6GjbOEoSjR",
        "colab": {
          "base_uri": "https://localhost:8080/"
        },
        "outputId": "33841075-87cc-429f-e1d1-770df477bbef"
      },
      "source": [
        "print(2+1j + 4+2j) # addition\r\n",
        "print(2+1j - 4+2j) # subtraction\r\n",
        "print(2+1j * 4+2j) # multiplication\r\n",
        "print(2+1j / 4+2j) # division\r\n",
        "print(2+1j ** 4+2j) # exponentiation"
      ],
      "execution_count": 6,
      "outputs": [
        {
          "output_type": "stream",
          "text": [
            "(6+3j)\n",
            "(-2+3j)\n",
            "(2+6j)\n",
            "(2+2.25j)\n",
            "(3+2j)\n"
          ],
          "name": "stdout"
        }
      ]
    },
    {
      "cell_type": "code",
      "metadata": {
        "id": "UQQOknyvoY4b",
        "colab": {
          "base_uri": "https://localhost:8080/"
        },
        "outputId": "b928a202-471a-41e2-895f-b69c8dd9a8a0"
      },
      "source": [
        "print(type(2+1j + 4+2j))\r\n",
        "print(type(2+1j - 4+2j)) \r\n",
        "print(type(2+1j * 4+2j)) \r\n",
        "print(type(2+1j / 4+2j)) \r\n",
        "print(type(2+1j ** 4+2j))"
      ],
      "execution_count": 7,
      "outputs": [
        {
          "output_type": "stream",
          "text": [
            "<class 'complex'>\n",
            "<class 'complex'>\n",
            "<class 'complex'>\n",
            "<class 'complex'>\n",
            "<class 'complex'>\n"
          ],
          "name": "stdout"
        }
      ]
    },
    {
      "cell_type": "markdown",
      "metadata": {
        "id": "KUfxK2YJp-F-"
      },
      "source": [
        "If you do not have an imaginary value, yet you put the iota symbol, python will interpret it as complex.\r\n",
        "\r\n",
        "If you add a real value to a complex value, the resulting value will also be complex."
      ]
    },
    {
      "cell_type": "code",
      "metadata": {
        "id": "lBSYYs2yqPr1",
        "colab": {
          "base_uri": "https://localhost:8080/"
        },
        "outputId": "77dbe46e-b3d8-4bb0-aa51-7f4a7b2f61fd"
      },
      "source": [
        "print(type(1+0j))\r\n",
        "print(type(1 + 2j))\r\n",
        "print(type(1 + 2+3j))"
      ],
      "execution_count": 8,
      "outputs": [
        {
          "output_type": "stream",
          "text": [
            "<class 'complex'>\n",
            "<class 'complex'>\n",
            "<class 'complex'>\n"
          ],
          "name": "stdout"
        }
      ]
    }
  ]
}