{
  "nbformat": 4,
  "nbformat_minor": 0,
  "metadata": {
    "colab": {
      "name": "Python Numbers.ipynb",
      "provenance": [],
      "authorship_tag": "ABX9TyO20znluCwXuuB1BqecPqDj",
      "include_colab_link": true
    },
    "kernelspec": {
      "name": "python3",
      "display_name": "Python 3"
    }
  },
  "cells": [
    {
      "cell_type": "markdown",
      "metadata": {
        "id": "view-in-github",
        "colab_type": "text"
      },
      "source": [
        "<a href=\"https://colab.research.google.com/github/VanshJain-me/python_handbook/blob/main/Python_Numbers.ipynb\" target=\"_parent\"><img src=\"https://colab.research.google.com/assets/colab-badge.svg\" alt=\"Open In Colab\"/></a>"
      ]
    },
    {
      "cell_type": "markdown",
      "metadata": {
        "id": "T0K8XlAaURo9"
      },
      "source": [
        "# Integers\r\n",
        "\r\n",
        "The integer data type in python represent whole numbers. They do not represent decimal values. They can undergo standard mathematical operations like addition, subtraction, multiplication, division, modulo, double division and exponentiation.\r\n",
        "\r\n",
        "## Modulo\r\n",
        "\r\n",
        "The modulo operator returns the remainder when two numbers are divided.\r\n",
        "\r\n",
        "## Double Division\r\n",
        "\r\n",
        "The double division operator returns the quotient when two numbers are divided. In essence, it is the result of the division is rounded down to the nearest integer."
      ]
    },
    {
      "cell_type": "code",
      "metadata": {
        "colab": {
          "base_uri": "https://localhost:8080/"
        },
        "id": "E5PqbMYTUSuR",
        "outputId": "90227adf-a673-40ad-9904-29fef34a2e08"
      },
      "source": [
        "print(7 + 4) # addition\r\n",
        "print(7 - 4) # subtraction\r\n",
        "print(7 * 4) # multiplication\r\n",
        "print(7 / 4) # division\r\n",
        "print(7 % 4) # modulo\r\n",
        "print(7 // 4) # double division\r\n",
        "print(7 ** 4) # exponentiation"
      ],
      "execution_count": 1,
      "outputs": [
        {
          "output_type": "stream",
          "text": [
            "11\n",
            "3\n",
            "28\n",
            "1.75\n",
            "3\n",
            "1\n",
            "2401\n"
          ],
          "name": "stdout"
        }
      ]
    },
    {
      "cell_type": "markdown",
      "metadata": {
        "id": "v9qOKzJpW45d"
      },
      "source": [
        "# The type() function\r\n",
        "\r\n",
        "The type function determines the data type used."
      ]
    },
    {
      "cell_type": "code",
      "metadata": {
        "colab": {
          "base_uri": "https://localhost:8080/"
        },
        "id": "siLleKhtUhhY",
        "outputId": "a9743d49-30d8-4f88-9a0d-ee8e262676e7"
      },
      "source": [
        "print(type(2 + 4))\r\n",
        "print(type(2 - 4))\r\n",
        "print(type(2 * 4))\r\n",
        "print(type(2 / 4))\r\n",
        "print(type(2 % 4))\r\n",
        "print(type(2 ** 4))"
      ],
      "execution_count": 2,
      "outputs": [
        {
          "output_type": "stream",
          "text": [
            "<class 'int'>\n",
            "<class 'int'>\n",
            "<class 'int'>\n",
            "<class 'float'>\n",
            "<class 'int'>\n",
            "<class 'int'>\n"
          ],
          "name": "stdout"
        }
      ]
    },
    {
      "cell_type": "markdown",
      "metadata": {
        "id": "ytiU_TIJeTLj"
      },
      "source": [
        "# Float\r\n",
        "\r\n",
        "The float data type in python can represent all numbers. They can represent decimal values and whole values. They can undergo standard mathematical operations like addition, subtraction, multiplication, division, modulo and exponentiation."
      ]
    },
    {
      "cell_type": "code",
      "metadata": {
        "colab": {
          "base_uri": "https://localhost:8080/"
        },
        "id": "kv_yX54CW3jR",
        "outputId": "affb0253-2f9d-4904-f6e4-84d717de296a"
      },
      "source": [
        "print(2.1 + 4.2) # addition\r\n",
        "print(2.1 - 4.2) # subtraction\r\n",
        "print(2.1 * 4.2) # multiplication\r\n",
        "print(2.1 / 4.2) # division\r\n",
        "print(2.1 % 4.2) # modulo\r\n",
        "print(2.1 ** 4.2) # exponentiation"
      ],
      "execution_count": 3,
      "outputs": [
        {
          "output_type": "stream",
          "text": [
            "6.300000000000001\n",
            "-2.1\n",
            "8.82\n",
            "0.5\n",
            "2.1\n",
            "22.55906200252889\n"
          ],
          "name": "stdout"
        }
      ]
    },
    {
      "cell_type": "code",
      "metadata": {
        "colab": {
          "base_uri": "https://localhost:8080/"
        },
        "id": "Y5IRwUd-f4-x",
        "outputId": "ad16edfc-a15c-4434-c9a0-08b5bc315c97"
      },
      "source": [
        "print(type(2.1 + 4.2))\r\n",
        "print(type(2.1 - 4.2))\r\n",
        "print(type(2.1 * 4.2))\r\n",
        "print(type(2.1 / 4.2))\r\n",
        "print(type(2.1 % 4.2))\r\n",
        "print(type(2.1 ** 4.2))"
      ],
      "execution_count": 4,
      "outputs": [
        {
          "output_type": "stream",
          "text": [
            "<class 'float'>\n",
            "<class 'float'>\n",
            "<class 'float'>\n",
            "<class 'float'>\n",
            "<class 'float'>\n",
            "<class 'float'>\n"
          ],
          "name": "stdout"
        }
      ]
    },
    {
      "cell_type": "markdown",
      "metadata": {
        "id": "PA4khckHfcZH"
      },
      "source": [
        "If you do not have a decimal value, yet you put a decimal, python will interpret it as float.\r\n",
        "\r\n",
        "If you add an integer to a float value, the resulting value will also be float."
      ]
    },
    {
      "cell_type": "code",
      "metadata": {
        "colab": {
          "base_uri": "https://localhost:8080/"
        },
        "id": "hSx-y-t_fbg9",
        "outputId": "a315b060-8aca-4009-af7b-2202e9716cda"
      },
      "source": [
        "print(type(2.0))\r\n",
        "print(type(1 + 2.2))"
      ],
      "execution_count": 5,
      "outputs": [
        {
          "output_type": "stream",
          "text": [
            "<class 'float'>\n",
            "<class 'float'>\n"
          ],
          "name": "stdout"
        }
      ]
    }
  ]
}