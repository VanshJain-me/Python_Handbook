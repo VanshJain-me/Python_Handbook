{
  "nbformat": 4,
  "nbformat_minor": 0,
  "metadata": {
    "colab": {
      "name": "Python Numbers.ipynb",
      "provenance": [],
      "authorship_tag": "ABX9TyNyzp3Zs8dwAGckg/U+EMrB",
      "include_colab_link": true
    },
    "kernelspec": {
      "name": "python3",
      "display_name": "Python 3"
    }
  },
  "cells": [
    {
      "cell_type": "markdown",
      "metadata": {
        "id": "view-in-github",
        "colab_type": "text"
      },
      "source": [
        "<a href=\"https://colab.research.google.com/github/VanshJain-me/python_handbook/blob/main/Python_Numbers.ipynb\" target=\"_parent\"><img src=\"https://colab.research.google.com/assets/colab-badge.svg\" alt=\"Open In Colab\"/></a>"
      ]
    },
    {
      "cell_type": "markdown",
      "metadata": {
        "id": "T0K8XlAaURo9"
      },
      "source": [
        "# Integers\r\n",
        "\r\n",
        "The integer data type in python represent whole numbers. They do not represent decimal values. They can undergo standard mathematical operations like addition, subtraction, multiplication, division, modulo, double division and exponentiation.\r\n",
        "\r\n",
        "## Modulo\r\n",
        "\r\n",
        "The modulo operator returns the remainder when two numbers are divided.\r\n",
        "\r\n",
        "## Double Division\r\n",
        "\r\n",
        "The double division operator returns the quotient when two numbers are divided. In essence, it is the result of the division is rounded down to the nearest integer."
      ]
    },
    {
      "cell_type": "code",
      "metadata": {
        "colab": {
          "base_uri": "https://localhost:8080/"
        },
        "id": "E5PqbMYTUSuR",
        "outputId": "985f5b48-a68b-4af2-f187-79909d07d9b3"
      },
      "source": [
        "print(7 + 4) # addition\r\n",
        "print(7 - 4) # subtraction\r\n",
        "print(7 * 4) # multiplication\r\n",
        "print(7 / 4) # division\r\n",
        "print(7 % 4) # modulo\r\n",
        "print(7 // 4) # double division\r\n",
        "print(7 ** 4) # exponentiation"
      ],
      "execution_count": 1,
      "outputs": [
        {
          "output_type": "stream",
          "text": [
            "11\n",
            "3\n",
            "28\n",
            "1.75\n",
            "3\n",
            "1\n",
            "2401\n"
          ],
          "name": "stdout"
        }
      ]
    },
    {
      "cell_type": "markdown",
      "metadata": {
        "id": "v9qOKzJpW45d"
      },
      "source": [
        "# The type() function\r\n",
        "\r\n",
        "The type function determines the data type used."
      ]
    },
    {
      "cell_type": "code",
      "metadata": {
        "colab": {
          "base_uri": "https://localhost:8080/"
        },
        "id": "siLleKhtUhhY",
        "outputId": "1ca253c0-9ac1-4cff-bbfe-6a4785675013"
      },
      "source": [
        "print(type(2 + 4))\r\n",
        "print(type(2 - 4))\r\n",
        "print(type(2 * 4))\r\n",
        "print(type(2 / 4))\r\n",
        "print(type(2 % 4))\r\n",
        "print(type(2 ** 4))"
      ],
      "execution_count": 2,
      "outputs": [
        {
          "output_type": "stream",
          "text": [
            "<class 'int'>\n",
            "<class 'int'>\n",
            "<class 'int'>\n",
            "<class 'float'>\n",
            "<class 'int'>\n",
            "<class 'int'>\n"
          ],
          "name": "stdout"
        }
      ]
    },
    {
      "cell_type": "markdown",
      "metadata": {
        "id": "ytiU_TIJeTLj"
      },
      "source": [
        "# Float\r\n",
        "\r\n",
        "The float data type in python can represent all numbers. They can represent decimal values and whole values. They can undergo standard mathematical operations like addition, subtraction, multiplication, division, modulo and exponentiation."
      ]
    },
    {
      "cell_type": "code",
      "metadata": {
        "colab": {
          "base_uri": "https://localhost:8080/"
        },
        "id": "kv_yX54CW3jR",
        "outputId": "1a216217-a231-4e63-c1e5-fe851e6da2ff"
      },
      "source": [
        "print(2.1 + 4.2) # addition\r\n",
        "print(2.1 - 4.2) # subtraction\r\n",
        "print(2.1 * 4.2) # multiplication\r\n",
        "print(2.1 / 4.2) # division\r\n",
        "print(2.1 % 4.2) # modulo\r\n",
        "print(2.1 ** 4.2) # exponentiation"
      ],
      "execution_count": 3,
      "outputs": [
        {
          "output_type": "stream",
          "text": [
            "6.300000000000001\n",
            "-2.1\n",
            "8.82\n",
            "0.5\n",
            "2.1\n",
            "22.55906200252889\n"
          ],
          "name": "stdout"
        }
      ]
    },
    {
      "cell_type": "code",
      "metadata": {
        "colab": {
          "base_uri": "https://localhost:8080/"
        },
        "id": "Y5IRwUd-f4-x",
        "outputId": "ceacada5-f7e7-42c3-8227-3846d7c9d13a"
      },
      "source": [
        "print(type(2.1 + 4.2))\r\n",
        "print(type(2.1 - 4.2))\r\n",
        "print(type(2.1 * 4.2))\r\n",
        "print(type(2.1 / 4.2))\r\n",
        "print(type(2.1 % 4.2))\r\n",
        "print(type(2.1 ** 4.2))"
      ],
      "execution_count": 4,
      "outputs": [
        {
          "output_type": "stream",
          "text": [
            "<class 'float'>\n",
            "<class 'float'>\n",
            "<class 'float'>\n",
            "<class 'float'>\n",
            "<class 'float'>\n",
            "<class 'float'>\n"
          ],
          "name": "stdout"
        }
      ]
    },
    {
      "cell_type": "markdown",
      "metadata": {
        "id": "PA4khckHfcZH"
      },
      "source": [
        "If you do not have a decimal value, yet you put a decimal, python will interpret it as float.\r\n",
        "\r\n",
        "If you add an integer to a float value, the resulting value will also be float."
      ]
    },
    {
      "cell_type": "code",
      "metadata": {
        "colab": {
          "base_uri": "https://localhost:8080/"
        },
        "id": "hSx-y-t_fbg9",
        "outputId": "ff37e73b-0997-4ef1-f25d-137e26ddfd9a"
      },
      "source": [
        "print(type(2.0))\r\n",
        "print(type(1 + 2.2))"
      ],
      "execution_count": 5,
      "outputs": [
        {
          "output_type": "stream",
          "text": [
            "<class 'float'>\n",
            "<class 'float'>\n"
          ],
          "name": "stdout"
        }
      ]
    },
    {
      "cell_type": "markdown",
      "metadata": {
        "id": "Usbs2kUAnyix"
      },
      "source": [
        "# Complex\r\n",
        "\r\n",
        "The complex data type represents all real, imaginary and complex numbers. A complex number is a number consisting of real and imaginary parts. They can undergo standard mathematical operations like addition, subtraction, multiplication, division and exponentiation. Complex numbers cannot undergo the modulo operation."
      ]
    },
    {
      "cell_type": "code",
      "metadata": {
        "id": "2y6GjbOEoSjR",
        "outputId": "84d28aa7-185f-4310-8619-a688e7fd7482",
        "colab": {
          "base_uri": "https://localhost:8080/"
        }
      },
      "source": [
        "print(2+1j + 4+2j) # addition\r\n",
        "print(2+1j - 4+2j) # subtraction\r\n",
        "print(2+1j * 4+2j) # multiplication\r\n",
        "print(2+1j / 4+2j) # division\r\n",
        "print(2+1j ** 4+2j) # exponentiation"
      ],
      "execution_count": 6,
      "outputs": [
        {
          "output_type": "stream",
          "text": [
            "(6+3j)\n",
            "(-2+3j)\n",
            "(2+6j)\n",
            "(2+2.25j)\n",
            "(3+2j)\n"
          ],
          "name": "stdout"
        }
      ]
    },
    {
      "cell_type": "code",
      "metadata": {
        "id": "UQQOknyvoY4b",
        "outputId": "7e919480-b412-4946-9f89-459c870c1744",
        "colab": {
          "base_uri": "https://localhost:8080/"
        }
      },
      "source": [
        "print(type(2+1j + 4+2j))\r\n",
        "print(type(2+1j - 4+2j)) \r\n",
        "print(type(2+1j * 4+2j)) \r\n",
        "print(type(2+1j / 4+2j)) \r\n",
        "print(type(2+1j ** 4+2j))"
      ],
      "execution_count": 7,
      "outputs": [
        {
          "output_type": "stream",
          "text": [
            "<class 'complex'>\n",
            "<class 'complex'>\n",
            "<class 'complex'>\n",
            "<class 'complex'>\n",
            "<class 'complex'>\n"
          ],
          "name": "stdout"
        }
      ]
    },
    {
      "cell_type": "markdown",
      "metadata": {
        "id": "KUfxK2YJp-F-"
      },
      "source": [
        "If you do not have an imaginary value, yet you put the iota symbol, python will interpret it as complex.\r\n",
        "\r\n",
        "If you add a real value to a complex value, the resulting value will also be complex."
      ]
    },
    {
      "cell_type": "code",
      "metadata": {
        "id": "lBSYYs2yqPr1",
        "outputId": "04e9ae5c-2a92-4540-f615-65ea02b811c5",
        "colab": {
          "base_uri": "https://localhost:8080/"
        }
      },
      "source": [
        "print(type(1+0j))\r\n",
        "print(type(1 + 2j))\r\n",
        "print(type(1 + 2+3j))"
      ],
      "execution_count": 8,
      "outputs": [
        {
          "output_type": "stream",
          "text": [
            "<class 'complex'>\n",
            "<class 'complex'>\n",
            "<class 'complex'>\n"
          ],
          "name": "stdout"
        }
      ]
    },
    {
      "cell_type": "code",
      "metadata": {
        "id": "0_jzAreSqYl2"
      },
      "source": [
        ""
      ],
      "execution_count": 8,
      "outputs": []
    }
  ]
}