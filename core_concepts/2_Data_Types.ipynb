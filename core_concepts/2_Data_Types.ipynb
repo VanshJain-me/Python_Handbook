{
  "nbformat": 4,
  "nbformat_minor": 0,
  "metadata": {
    "colab": {
      "name": "2. Python Data Types.ipynb",
      "provenance": [],
      "authorship_tag": "ABX9TyOB9rWeoqo3E/d9SUgXoJit",
      "include_colab_link": true
    },
    "kernelspec": {
      "name": "python3",
      "display_name": "Python 3"
    }
  },
  "cells": [
    {
      "cell_type": "markdown",
      "metadata": {
        "id": "view-in-github",
        "colab_type": "text"
      },
      "source": [
        "<a href=\"https://colab.research.google.com/github/VanshJain-me/python_handbook/blob/main/2_Python_Data_Types.ipynb\" target=\"_parent\"><img src=\"https://colab.research.google.com/assets/colab-badge.svg\" alt=\"Open In Colab\"/></a>"
      ]
    },
    {
      "cell_type": "markdown",
      "metadata": {
        "id": "-__DvtOSBYgU"
      },
      "source": [
        "# Data Types\r\n",
        "\r\n",
        "A data type in python is a value.\r\n",
        "They are used to store and manipulate data."
      ]
    },
    {
      "cell_type": "markdown",
      "metadata": {
        "id": "8Tx4SFKbIf47"
      },
      "source": [
        "## Fundamental Data Types\r\n",
        "\r\n",
        "Fundamental Data Types are the most basic building blocks of all data types. All other data types are made of these fundamental data types.\r\n",
        "\r\n",
        "The Fundamental Data Types are:\r\n",
        "  1. int\r\n",
        "  2. float\r\n",
        "  3. bool\r\n",
        "  4. str\r\n",
        "  5. list\r\n",
        "  6. tuple\r\n",
        "  7. set\r\n",
        "  8. dict"
      ]
    },
    {
      "cell_type": "markdown",
      "metadata": {
        "id": "4WlHEQbOM6vD"
      },
      "source": [
        "## Classes\r\n",
        "\r\n",
        "Classes are customised data types.\r\n"
      ]
    },
    {
      "cell_type": "markdown",
      "metadata": {
        "id": "W2_cLLmJNdSj"
      },
      "source": [
        "## Specialised Data Types\r\n",
        "\r\n",
        "They're not built in python but are available in python packages, otherwised known as modules. They allow us to extend the data types in the Python language without having to create a class for them."
      ]
    },
    {
      "cell_type": "markdown",
      "metadata": {
        "id": "NxXlXQ1LNeTj"
      },
      "source": [
        "## The None Data Type"
      ]
    }
  ]
}