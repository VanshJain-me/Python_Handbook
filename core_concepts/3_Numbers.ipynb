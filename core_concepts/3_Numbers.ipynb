{
  "nbformat": 4,
  "nbformat_minor": 0,
  "metadata": {
    "colab": {
      "name": "Python Numbers.ipynb",
      "provenance": [],
      "authorship_tag": "ABX9TyNro4EWnC5lC8/tVoiK5CzF",
      "include_colab_link": true
    },
    "kernelspec": {
      "name": "python3",
      "display_name": "Python 3"
    }
  },
  "cells": [
    {
      "cell_type": "markdown",
      "metadata": {
        "id": "view-in-github",
        "colab_type": "text"
      },
      "source": [
        "<a href=\"https://colab.research.google.com/github/VanshJain-me/python_handbook/blob/main/core_concepts/3_Numbers.ipynb\" target=\"_parent\"><img src=\"https://colab.research.google.com/assets/colab-badge.svg\" alt=\"Open In Colab\"/></a>"
      ]
    },
    {
      "cell_type": "markdown",
      "metadata": {
        "id": "T0K8XlAaURo9"
      },
      "source": [
        "# Integers\r\n",
        "\r\n",
        "The integer data type in python represent whole numbers. They do not represent decimal values. They can undergo standard mathematical operations like addition, subtraction, multiplication, division, modulo, double division and exponentiation.\r\n",
        "\r\n",
        "\r\n",
        "---\r\n",
        "\r\n",
        "\r\n",
        "## Modulo\r\n",
        "\r\n",
        "The modulo operator returns the remainder when two numbers are divided.\r\n",
        "\r\n",
        "\r\n",
        "\r\n",
        "## Double Division\r\n",
        "\r\n",
        "The double division operator returns the quotient when two numbers are divided. In essence, it is the result of the division is rounded down to the nearest integer."
      ]
    },
    {
      "cell_type": "code",
      "metadata": {
        "colab": {
          "base_uri": "https://localhost:8080/"
        },
        "id": "E5PqbMYTUSuR",
        "outputId": "1b2ff71b-74be-4425-f7a4-acc27e352564"
      },
      "source": [
        "print(7 + 4) # addition\r\n",
        "print(7 - 4) # subtraction\r\n",
        "print(7 * 4) # multiplication\r\n",
        "print(7 / 4) # division\r\n",
        "print(7 % 4) # modulo\r\n",
        "print(7 // 4) # double division\r\n",
        "print(7 ** 4) # exponentiation"
      ],
      "execution_count": null,
      "outputs": [
        {
          "output_type": "stream",
          "text": [
            "11\n",
            "3\n",
            "28\n",
            "1.75\n",
            "3\n",
            "1\n",
            "2401\n"
          ],
          "name": "stdout"
        }
      ]
    },
    {
      "cell_type": "markdown",
      "metadata": {
        "id": "v9qOKzJpW45d"
      },
      "source": [
        "# The type() function\r\n",
        "\r\n",
        "The type function determines the data type used."
      ]
    },
    {
      "cell_type": "code",
      "metadata": {
        "colab": {
          "base_uri": "https://localhost:8080/"
        },
        "id": "siLleKhtUhhY",
        "outputId": "dafe24ed-1964-44de-d94e-1b00a82de76d"
      },
      "source": [
        "print(type(2 + 4))\r\n",
        "print(type(2 - 4))\r\n",
        "print(type(2 * 4))\r\n",
        "print(type(2 / 4))\r\n",
        "print(type(2 % 4))\r\n",
        "print(type(2 ** 4))"
      ],
      "execution_count": null,
      "outputs": [
        {
          "output_type": "stream",
          "text": [
            "<class 'int'>\n",
            "<class 'int'>\n",
            "<class 'int'>\n",
            "<class 'float'>\n",
            "<class 'int'>\n",
            "<class 'int'>\n"
          ],
          "name": "stdout"
        }
      ]
    },
    {
      "cell_type": "markdown",
      "metadata": {
        "id": "ytiU_TIJeTLj"
      },
      "source": [
        "# Float\r\n",
        "\r\n",
        "The float data type in python can represent all numbers. They can represent decimal values and whole values. They can undergo standard mathematical operations like addition, subtraction, multiplication, division, modulo and exponentiation."
      ]
    },
    {
      "cell_type": "code",
      "metadata": {
        "colab": {
          "base_uri": "https://localhost:8080/"
        },
        "id": "kv_yX54CW3jR",
        "outputId": "578d47f2-c6a7-453c-ed7e-37557b7edf55"
      },
      "source": [
        "print(2.1 + 4.2) # addition\r\n",
        "print(2.1 - 4.2) # subtraction\r\n",
        "print(2.1 * 4.2) # multiplication\r\n",
        "print(2.1 / 4.2) # division\r\n",
        "print(2.1 % 4.2) # modulo\r\n",
        "print(2.1 ** 4.2) # exponentiation"
      ],
      "execution_count": null,
      "outputs": [
        {
          "output_type": "stream",
          "text": [
            "6.300000000000001\n",
            "-2.1\n",
            "8.82\n",
            "0.5\n",
            "2.1\n",
            "22.55906200252889\n"
          ],
          "name": "stdout"
        }
      ]
    },
    {
      "cell_type": "code",
      "metadata": {
        "colab": {
          "base_uri": "https://localhost:8080/"
        },
        "id": "Y5IRwUd-f4-x",
        "outputId": "fea89ab6-18b8-4d56-9750-765b45be47e4"
      },
      "source": [
        "print(type(2.1 + 4.2))\r\n",
        "print(type(2.1 - 4.2))\r\n",
        "print(type(2.1 * 4.2))\r\n",
        "print(type(2.1 / 4.2))\r\n",
        "print(type(2.1 % 4.2))\r\n",
        "print(type(2.1 ** 4.2))"
      ],
      "execution_count": null,
      "outputs": [
        {
          "output_type": "stream",
          "text": [
            "<class 'float'>\n",
            "<class 'float'>\n",
            "<class 'float'>\n",
            "<class 'float'>\n",
            "<class 'float'>\n",
            "<class 'float'>\n"
          ],
          "name": "stdout"
        }
      ]
    },
    {
      "cell_type": "markdown",
      "metadata": {
        "id": "PA4khckHfcZH"
      },
      "source": [
        "If you do not have a decimal value, yet you put a decimal, python will interpret it as float.\r\n",
        "\r\n",
        "If you add an integer to a float value, the resulting value will also be float."
      ]
    },
    {
      "cell_type": "code",
      "metadata": {
        "colab": {
          "base_uri": "https://localhost:8080/"
        },
        "id": "hSx-y-t_fbg9",
        "outputId": "a46f0a4c-1b15-4d6d-e8a8-bcf65167390a"
      },
      "source": [
        "print(type(2.0))\r\n",
        "print(type(1 + 2.2))"
      ],
      "execution_count": null,
      "outputs": [
        {
          "output_type": "stream",
          "text": [
            "<class 'float'>\n",
            "<class 'float'>\n"
          ],
          "name": "stdout"
        }
      ]
    },
    {
      "cell_type": "markdown",
      "metadata": {
        "id": "Usbs2kUAnyix"
      },
      "source": [
        "# Complex\r\n",
        "\r\n",
        "The complex data type represents all real, imaginary and complex numbers. A complex number is a number consisting of real and imaginary parts. They can undergo standard mathematical operations like addition, subtraction, multiplication, division and exponentiation. Complex numbers cannot undergo the modulo operation."
      ]
    },
    {
      "cell_type": "code",
      "metadata": {
        "id": "2y6GjbOEoSjR",
        "colab": {
          "base_uri": "https://localhost:8080/"
        },
        "outputId": "d8e7d465-9c5c-4cca-da5e-94ae9c72578a"
      },
      "source": [
        "print(2+1j + 4+2j) # addition\r\n",
        "print(2+1j - 4+2j) # subtraction\r\n",
        "print(2+1j * 4+2j) # multiplication\r\n",
        "print(2+1j / 4+2j) # division\r\n",
        "print(2+1j ** 4+2j) # exponentiation"
      ],
      "execution_count": null,
      "outputs": [
        {
          "output_type": "stream",
          "text": [
            "(6+3j)\n",
            "(-2+3j)\n",
            "(2+6j)\n",
            "(2+2.25j)\n",
            "(3+2j)\n"
          ],
          "name": "stdout"
        }
      ]
    },
    {
      "cell_type": "code",
      "metadata": {
        "id": "UQQOknyvoY4b",
        "colab": {
          "base_uri": "https://localhost:8080/"
        },
        "outputId": "eca6ca65-385e-4000-cf15-c3a49ea2dd5b"
      },
      "source": [
        "print(type(2+1j + 4+2j))\r\n",
        "print(type(2+1j - 4+2j)) \r\n",
        "print(type(2+1j * 4+2j)) \r\n",
        "print(type(2+1j / 4+2j)) \r\n",
        "print(type(2+1j ** 4+2j))"
      ],
      "execution_count": null,
      "outputs": [
        {
          "output_type": "stream",
          "text": [
            "<class 'complex'>\n",
            "<class 'complex'>\n",
            "<class 'complex'>\n",
            "<class 'complex'>\n",
            "<class 'complex'>\n"
          ],
          "name": "stdout"
        }
      ]
    },
    {
      "cell_type": "markdown",
      "metadata": {
        "id": "KUfxK2YJp-F-"
      },
      "source": [
        "If you do not have an imaginary value, yet you put the iota symbol, python will interpret it as complex.\r\n",
        "\r\n",
        "If you add a real value to a complex value, the resulting value will also be complex."
      ]
    },
    {
      "cell_type": "code",
      "metadata": {
        "id": "lBSYYs2yqPr1",
        "colab": {
          "base_uri": "https://localhost:8080/"
        },
        "outputId": "293fefe1-55e6-4d5d-da9a-b04f9eda1910"
      },
      "source": [
        "print(type(1+0j))\r\n",
        "print(type(1 + 2j))\r\n",
        "print(type(1 + 2+3j))"
      ],
      "execution_count": null,
      "outputs": [
        {
          "output_type": "stream",
          "text": [
            "<class 'complex'>\n",
            "<class 'complex'>\n",
            "<class 'complex'>\n"
          ],
          "name": "stdout"
        }
      ]
    },
    {
      "cell_type": "markdown",
      "metadata": {
        "id": "CCB2A5Q5f2i9"
      },
      "source": [
        "# Augmented Assignment Operator\r\n",
        "\r\n",
        "The Augmented Assignment Operator carries out an operation on the value stored within the variable, and stores the new value in the same variable"
      ]
    },
    {
      "cell_type": "code",
      "metadata": {
        "id": "OlfUzK4tf3E9",
        "colab": {
          "base_uri": "https://localhost:8080/"
        },
        "outputId": "2d389f83-123d-428e-9ede-570adeb41588"
      },
      "source": [
        "value = 5\r\n",
        "\r\n",
        "value += 2\r\n",
        "print(value)\r\n",
        "\r\n",
        "value -= 2\r\n",
        "print(value)\r\n",
        "\r\n",
        "value *= 2\r\n",
        "print(value)\r\n",
        "\r\n",
        "value /= 2\r\n",
        "print(value)\r\n",
        "\r\n",
        "value **=2\r\n",
        "print(value)\r\n",
        "\r\n",
        "value //=2\r\n",
        "print(value)"
      ],
      "execution_count": null,
      "outputs": [
        {
          "output_type": "stream",
          "text": [
            "7\n",
            "5\n",
            "10\n",
            "5.0\n",
            "25.0\n",
            "12.0\n"
          ],
          "name": "stdout"
        }
      ]
    }
  ]
}