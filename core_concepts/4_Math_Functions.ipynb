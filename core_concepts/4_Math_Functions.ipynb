{
  "nbformat": 4,
  "nbformat_minor": 0,
  "metadata": {
    "colab": {
      "name": "Python Math Functions.ipynb",
      "provenance": [],
      "authorship_tag": "ABX9TyOg2zJbFZta4ckvUEcrPYMe",
      "include_colab_link": true
    },
    "kernelspec": {
      "name": "python3",
      "display_name": "Python 3"
    }
  },
  "cells": [
    {
      "cell_type": "markdown",
      "metadata": {
        "id": "view-in-github",
        "colab_type": "text"
      },
      "source": [
        "<a href=\"https://colab.research.google.com/github/VanshJain-me/python_handbook/blob/main/Python_Math_Functions.ipynb\" target=\"_parent\"><img src=\"https://colab.research.google.com/assets/colab-badge.svg\" alt=\"Open In Colab\"/></a>"
      ]
    },
    {
      "cell_type": "markdown",
      "metadata": {
        "id": "q0waozmziOzI"
      },
      "source": [
        "# The round() function\r\n",
        "\r\n",
        "The round() function returns the rounded down value of the number."
      ]
    },
    {
      "cell_type": "code",
      "metadata": {
        "colab": {
          "base_uri": "https://localhost:8080/"
        },
        "id": "8fzmZWXtiVeh",
        "outputId": "f04c8253-7b32-4577-f220-380b481ad6ac"
      },
      "source": [
        "print(round(3.1))"
      ],
      "execution_count": 1,
      "outputs": [
        {
          "output_type": "stream",
          "text": [
            "3\n"
          ],
          "name": "stdout"
        }
      ]
    },
    {
      "cell_type": "markdown",
      "metadata": {
        "id": "2sImaFV1ivd5"
      },
      "source": [
        "# The abs() function\r\n",
        "\r\n",
        "The abs() function returns the absolute value of the number. In essence, all negative numbers will be converted to positive values."
      ]
    },
    {
      "cell_type": "code",
      "metadata": {
        "colab": {
          "base_uri": "https://localhost:8080/"
        },
        "id": "y51sXdokiW6e",
        "outputId": "fdb1eab4-6712-4494-faca-fadc83382cd7"
      },
      "source": [
        "print(abs(-10))"
      ],
      "execution_count": 2,
      "outputs": [
        {
          "output_type": "stream",
          "text": [
            "10\n"
          ],
          "name": "stdout"
        }
      ]
    }
  ]
}
