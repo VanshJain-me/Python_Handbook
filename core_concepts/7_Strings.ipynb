{
  "nbformat": 4,
  "nbformat_minor": 0,
  "metadata": {
    "colab": {
      "name": "7.Strings.ipynb",
      "provenance": [],
      "authorship_tag": "ABX9TyOi82tNUtB4OXz2YcNwH5ZW",
      "include_colab_link": true
    },
    "kernelspec": {
      "name": "python3",
      "display_name": "Python 3"
    }
  },
  "cells": [
    {
      "cell_type": "markdown",
      "metadata": {
        "id": "view-in-github",
        "colab_type": "text"
      },
      "source": [
        "<a href=\"https://colab.research.google.com/github/VanshJain-me/python_handbook/blob/main/core_concepts/7_Strings.ipynb\" target=\"_parent\"><img src=\"https://colab.research.google.com/assets/colab-badge.svg\" alt=\"Open In Colab\"/></a>"
      ]
    },
    {
      "cell_type": "markdown",
      "metadata": {
        "id": "9yO06rTEjUsN"
      },
      "source": [
        "#Strings\r\n",
        "\r\n",
        "A string is a sequence of characters. They're contained within single or double quotes."
      ]
    },
    {
      "cell_type": "code",
      "metadata": {
        "colab": {
          "base_uri": "https://localhost:8080/"
        },
        "id": "5BukqD_4jMXY",
        "outputId": "b8e80266-0f13-47e7-954e-772b2c5083e1"
      },
      "source": [
        "'This is a string' #Valid string\r\n",
        "print(type('This is a string'))\r\n",
        "\r\n",
        "\"Your age is 100\" #Valid string\r\n",
        "print(type(\"Your age is 100\"))"
      ],
      "execution_count": 1,
      "outputs": [
        {
          "output_type": "stream",
          "text": [
            "<class 'str'>\n",
            "<class 'str'>\n"
          ],
          "name": "stdout"
        }
      ]
    },
    {
      "cell_type": "code",
      "metadata": {
        "colab": {
          "base_uri": "https://localhost:8080/"
        },
        "id": "bq1oavqlj3sM",
        "outputId": "43e42515-de2d-4658-b664-885dfbee9e7f"
      },
      "source": [
        "username = 'user'\r\n",
        "password = 'pass'\r\n",
        "\r\n",
        "print(username)\r\n",
        "print(password)\r\n",
        "\r\n",
        "print(type(username))\r\n",
        "print(type(password))"
      ],
      "execution_count": 2,
      "outputs": [
        {
          "output_type": "stream",
          "text": [
            "user\n",
            "pass\n",
            "<class 'str'>\n",
            "<class 'str'>\n"
          ],
          "name": "stdout"
        }
      ]
    },
    {
      "cell_type": "markdown",
      "metadata": {
        "id": "7gKYf9UikSbI"
      },
      "source": [
        "## Long Strings\r\n",
        "\r\n",
        "Long strings in python are strings that span accross multiple lines. They're contained between a set of three quotes '''."
      ]
    },
    {
      "cell_type": "code",
      "metadata": {
        "colab": {
          "base_uri": "https://localhost:8080/"
        },
        "id": "g9eVtHWKkQwr",
        "outputId": "0f856f58-2355-4c38-ae21-f5dc81fdafb3"
      },
      "source": [
        "long_string = '''\r\n",
        "WOW\r\n",
        "0 0\r\n",
        "---\r\n",
        "'''\r\n",
        "\r\n",
        "print(long_string)\r\n",
        "\r\n",
        "print(type(long_string))"
      ],
      "execution_count": 3,
      "outputs": [
        {
          "output_type": "stream",
          "text": [
            "\n",
            "WOW\n",
            "0 0\n",
            "---\n",
            "\n",
            "<class 'str'>\n"
          ],
          "name": "stdout"
        }
      ]
    },
    {
      "cell_type": "markdown",
      "metadata": {
        "id": "FIEATtCElJQ0"
      },
      "source": [
        "## String Concatenation\r\n",
        "\r\n",
        "String concatenation is adding two or more strings together to create one string. \r\n",
        "\r\n",
        "Note that you can only add strings to strings.\r\n",
        "\r\n",
        "It is done using a + sign."
      ]
    },
    {
      "cell_type": "code",
      "metadata": {
        "colab": {
          "base_uri": "https://localhost:8080/"
        },
        "id": "TkiBxQEsk4-E",
        "outputId": "d5beb2e1-b85c-4c5b-efe7-9efe0cbcb333"
      },
      "source": [
        "first_name = 'John'\r\n",
        "last_name = 'Doe'\r\n",
        "\r\n",
        "full_name = first_name + ' ' + last_name\r\n",
        "\r\n",
        "print(full_name)\r\n",
        "print(type(full_name))"
      ],
      "execution_count": 4,
      "outputs": [
        {
          "output_type": "stream",
          "text": [
            "John Doe\n",
            "<class 'str'>\n"
          ],
          "name": "stdout"
        }
      ]
    },
    {
      "cell_type": "markdown",
      "metadata": {
        "id": "d5VqeLhpahYt"
      },
      "source": [
        "## Escape Sequences\r\n",
        "\r\n",
        "Escape sequences allow the inclusion of special characters in strings. A backslash \\ is used before the character that is to be escaped."
      ]
    },
    {
      "cell_type": "code",
      "metadata": {
        "id": "xCSjt_IKbLvb",
        "outputId": "05609704-381e-4131-e831-f75f4287cbef",
        "colab": {
          "base_uri": "https://localhost:8080/"
        }
      },
      "source": [
        "message = 'Hey, what\\'s up?'\r\n",
        "print(message)\r\n",
        "\r\n",
        "message = 'It\\'s \\\"kind of\\\" sunny today.'\r\n",
        "print(message)"
      ],
      "execution_count": 5,
      "outputs": [
        {
          "output_type": "stream",
          "text": [
            "Hey, what's up?\n",
            "It's \"kind of\" sunny today.\n"
          ],
          "name": "stdout"
        }
      ]
    },
    {
      "cell_type": "markdown",
      "metadata": {
        "id": "hk0rQLXHbxTk"
      },
      "source": [
        "### Adding tabs and new lines.\r\n",
        "\r\n",
        "Tabspaces can be added using \\t escape sequence.\r\n",
        "\r\n",
        "New lines can be added using \\n escape sequence."
      ]
    },
    {
      "cell_type": "code",
      "metadata": {
        "id": "hVNqv7-Nb9Jb",
        "outputId": "bb2886d9-6492-4322-cbff-a6bd14943305",
        "colab": {
          "base_uri": "https://localhost:8080/"
        }
      },
      "source": [
        "message = 'Hey, what\\'s up? \\t I have added a tabspace here'\r\n",
        "print(message)\r\n",
        "\r\n",
        "message = 'Hey, what\\'s up? \\nI have added a new line here'\r\n",
        "print(message)"
      ],
      "execution_count": 6,
      "outputs": [
        {
          "output_type": "stream",
          "text": [
            "Hey, what's up? \t I have added a tabspace here\n",
            "Hey, what's up? \n",
            "I have added a new line here\n"
          ],
          "name": "stdout"
        }
      ]
    }
  ]
}