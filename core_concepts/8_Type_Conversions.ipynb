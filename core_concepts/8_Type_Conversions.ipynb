{
  "nbformat": 4,
  "nbformat_minor": 0,
  "metadata": {
    "colab": {
      "name": "8.Type Conversions.ipynb",
      "provenance": [],
      "authorship_tag": "ABX9TyNwIlSo5aGySHNpTxD3NjeY",
      "include_colab_link": true
    },
    "kernelspec": {
      "name": "python3",
      "display_name": "Python 3"
    }
  },
  "cells": [
    {
      "cell_type": "markdown",
      "metadata": {
        "id": "view-in-github",
        "colab_type": "text"
      },
      "source": [
        "<a href=\"https://colab.research.google.com/github/VanshJain-me/python_handbook/blob/main/core_concepts/8_Type_Conversions.ipynb\" target=\"_parent\"><img src=\"https://colab.research.google.com/assets/colab-badge.svg\" alt=\"Open In Colab\"/></a>"
      ]
    },
    {
      "cell_type": "markdown",
      "metadata": {
        "id": "HNx1-5jeU7UU"
      },
      "source": [
        "# Type Conversions\r\n",
        "\r\n",
        "Type conversions are used to convert one type of data type to another."
      ]
    },
    {
      "cell_type": "markdown",
      "metadata": {
        "id": "05mUGcYzVT9m"
      },
      "source": [
        "## The str() function\r\n",
        "\r\n",
        "The str() function is used to convert the data to a string format."
      ]
    },
    {
      "cell_type": "code",
      "metadata": {
        "colab": {
          "base_uri": "https://localhost:8080/"
        },
        "id": "3O6Qw7X4VTlV",
        "outputId": "4fb4c4e5-d8fc-4ad3-a587-330288f3a154"
      },
      "source": [
        "number = 10\r\n",
        "print(type(number))\r\n",
        "\r\n",
        "number = str(number)\r\n",
        "print(number)\r\n",
        "print(type(number))"
      ],
      "execution_count": 1,
      "outputs": [
        {
          "output_type": "stream",
          "text": [
            "<class 'int'>\n",
            "10\n",
            "<class 'str'>\n"
          ],
          "name": "stdout"
        }
      ]
    },
    {
      "cell_type": "markdown",
      "metadata": {
        "id": "haGy9QAOVq_v"
      },
      "source": [
        "## The int() function\r\n",
        "\r\n",
        "The int() function is used to convert data to an integer format. The input to the function have to be numeric in nature."
      ]
    },
    {
      "cell_type": "code",
      "metadata": {
        "colab": {
          "base_uri": "https://localhost:8080/"
        },
        "id": "zCGzyFz4VRcS",
        "outputId": "1a2f751d-de28-4d11-999f-b00c7fa42f2c"
      },
      "source": [
        "number = '100'\r\n",
        "print(type(number))\r\n",
        "\r\n",
        "number = int(number)\r\n",
        "print(number)\r\n",
        "print(type(number))"
      ],
      "execution_count": 2,
      "outputs": [
        {
          "output_type": "stream",
          "text": [
            "<class 'str'>\n",
            "100\n",
            "<class 'int'>\n"
          ],
          "name": "stdout"
        }
      ]
    },
    {
      "cell_type": "markdown",
      "metadata": {
        "id": "g5MIBnfQWaNc"
      },
      "source": [
        "If a decimal value is given to the int function, the decimal part is removed and the integer part is kept."
      ]
    },
    {
      "cell_type": "code",
      "metadata": {
        "colab": {
          "base_uri": "https://localhost:8080/"
        },
        "id": "pwgwwte2WLOk",
        "outputId": "d25b2964-0582-4b6f-e3e3-1cd7edbf4d5b"
      },
      "source": [
        "number = 100.001\r\n",
        "print(type(number))\r\n",
        "\r\n",
        "number = int(number)\r\n",
        "print(number)\r\n",
        "print(type(number))"
      ],
      "execution_count": 3,
      "outputs": [
        {
          "output_type": "stream",
          "text": [
            "<class 'float'>\n",
            "100\n",
            "<class 'int'>\n"
          ],
          "name": "stdout"
        }
      ]
    },
    {
      "cell_type": "markdown",
      "metadata": {
        "id": "J7uhz_IKWwWB"
      },
      "source": [
        "## The float() function\r\n",
        "\r\n",
        "The float() function is used to convert data to an float format. The input to the function have to be numeric in nature."
      ]
    },
    {
      "cell_type": "code",
      "metadata": {
        "colab": {
          "base_uri": "https://localhost:8080/"
        },
        "id": "XHCVtI7PW8J4",
        "outputId": "a0478cdb-26cd-41e3-8fe9-ecc941790d00"
      },
      "source": [
        "number = '100'\r\n",
        "print(type(number))\r\n",
        "\r\n",
        "number = float(number)\r\n",
        "print(number)\r\n",
        "print(type(number))"
      ],
      "execution_count": 4,
      "outputs": [
        {
          "output_type": "stream",
          "text": [
            "<class 'str'>\n",
            "100.0\n",
            "<class 'float'>\n"
          ],
          "name": "stdout"
        }
      ]
    }
  ]
}