{
  "nbformat": 4,
  "nbformat_minor": 0,
  "metadata": {
    "colab": {
      "name": "The Backtest Engine.ipynb",
      "provenance": [],
      "collapsed_sections": [],
      "authorship_tag": "ABX9TyNZd8Yuf9Vmp3XPMl6nZ5V+",
      "include_colab_link": true
    },
    "kernelspec": {
      "name": "python3",
      "display_name": "Python 3"
    }
  },
  "cells": [
    {
      "cell_type": "markdown",
      "metadata": {
        "id": "view-in-github",
        "colab_type": "text"
      },
      "source": [
        "<a href=\"https://colab.research.google.com/github/VanshJain-me/python_handbook/blob/main/tests/The_Backtest_Engine.ipynb\" target=\"_parent\"><img src=\"https://colab.research.google.com/assets/colab-badge.svg\" alt=\"Open In Colab\"/></a>"
      ]
    },
    {
      "cell_type": "markdown",
      "metadata": {
        "id": "aGoqompCZgxL"
      },
      "source": [
        "# Backtester Design\r\n",
        "\r\n",
        "\r\n",
        "## Features to be added:\r\n",
        "1. Event-Driven Design due to Efficiency of tests\r\n",
        "2. Needs to calculate ratios like sharpe's and calmar's ratio\r\n",
        "3. Needs interactive graphing\r\n",
        "\r\n",
        "\r\n",
        "## Questions:\r\n",
        "\r\n",
        "1. How to prevent biases?\r\n",
        "2. How to design stochastic tests?\r\n",
        "\r\n",
        "## Data Source\r\n",
        "* investpy, which gets its data from investing.com\r\n",
        "* Documentation: [investpy Documentation](https://investpy.readthedocs.io/)\r\n",
        "* GitHub: [investpy@GitHub](https://github.com/alvarobartt/investpy)\r\n",
        "* Refference Website: [investing.com](https://www.investing.com/)\r\n",
        "* Further resources: \r\n",
        "  * [Awesome Quant](https://github.com/wilsonfreitas/awesome-quant)\r\n",
        "  * [Python Backtesting Libraries](https://pypi.org/project/Backtesting/)\r\n",
        "  * [List of Distributions](https://www.itl.nist.gov/div898/handbook/eda/section3/eda366.htm)\r\n",
        "* Articles:\r\n",
        "  * [**reddit**: How to build a backtester to optimize trading strategies?](https://www.reddit.com/r/algotrading/comments/7ys4xx/how_to_build_a_backtester_to_optimize_trading/)\r\n",
        "  * [**medium**: The beginner’s guide to effective backtesting](https://medium.datadriveninvestor.com/the-beginners-guide-to-effective-backtesting-5a77f3eff433)\r\n",
        "  * [**quantstart**: Should You Build Your Own Backtester](https://www.quantstart.com/articles/Should-You-Build-Your-Own-Backtester/)\r\n",
        "  * [Build Your Own Event Based Backtester in Python](https://srome.github.io/Build-Your-Own-Event-Based-Backtester-In-Python/)\r\n",
        "  * [**stackexchange**: Backtesting Market Making Strategy or Microstructure Strategy](https://quant.stackexchange.com/questions/38781/backtesting-market-making-strategy-or-microstructure-strategy)\r\n",
        "  * [**stackexchange**: Do I use the bid or ask time series to build a model to predict forex and for a backtester](https://quant.stackexchange.com/questions/55441/do-i-use-the-bid-or-ask-time-series-to-build-a-model-to-predict-forex-and-for-a?rq=1)\r\n",
        "  * [**stackexchange**: Backtesting Period](https://quant.stackexchange.com/questions/10666/backtesting-period)\r\n",
        "  * [**stackexchange**: Survival bias when backtesting](https://quant.stackexchange.com/questions/49753/survival-bias-when-backtesting?rq=1)\r\n",
        "  * [Backtest Trading Strategies Like a Real Quant](https://blog.ephorie.de/backtest-trading-strategies-like-a-real-quant)\r\n",
        "  * [**stackexchange**: Tests that any system must pass to be taken seriously](https://quant.stackexchange.com/questions/3225/tests-that-any-system-must-pass-to-be-taken-seriously?noredirect=1&lq=1)\r\n",
        "  * [**stackexchange**: How to simulate slippage](https://quant.stackexchange.com/questions/1264/how-to-simulate-slippage?noredirect=1&lq=1)\r\n",
        "  * [**stackexchange**: Backtesting Strategies - Sampling and returns types](https://quant.stackexchange.com/questions/25221/backtesting-strategies-sampling-and-returns-types?rq=1)\r\n",
        "  * [**stackexchange**: How to properly evaluate backtest returns?](https://quant.stackexchange.com/questions/2516/how-to-properly-evaluate-backtest-returns)\r\n",
        "  * [**stackexchange**: How to design a custom equity backtester?](https://quant.stackexchange.com/questions/839/how-to-design-a-custom-equity-backtester)"
      ]
    },
    {
      "cell_type": "markdown",
      "metadata": {
        "id": "SIzy-WXHLd_v"
      },
      "source": [
        "\r\n",
        "# Question: How to design stochastic tests?\r\n",
        "\r\n",
        "Look at probability distribution and stochastic calculus. Also look at risk formulae and (frequency and multiple signal based tests).\r\n",
        "\r\n",
        "Also add time series based tests.\r\n"
      ]
    },
    {
      "cell_type": "code",
      "metadata": {
        "id": "FXlBkQNTncba"
      },
      "source": [
        "# Installing all neccessary libraries.\r\n",
        "\r\n",
        "!pip install investpy"
      ],
      "execution_count": null,
      "outputs": []
    },
    {
      "cell_type": "code",
      "metadata": {
        "id": "q9S4KAa8oXOn"
      },
      "source": [
        "import investpy\r\n",
        "import pandas as pd\r\n",
        "\r\n",
        "df = investpy.get_stock_historical_data(stock='RELI',\r\n",
        "                                        country='India',\r\n",
        "                                        from_date='01/01/2021',\r\n",
        "                                        to_date='16/02/2021')\r\n",
        "print(df.head())"
      ],
      "execution_count": null,
      "outputs": []
    },
    {
      "cell_type": "code",
      "metadata": {
        "id": "R__HZ7E0ociO"
      },
      "source": [
        "#df = investpy.get_currency_cross_historical_data(currency_cross='EUR/INR',\r\n",
        "#                                                 from_date='01/01/2021',\r\n",
        "#                                                 to_date='16/02/2021')\r\n",
        "#print(df.tail())"
      ],
      "execution_count": null,
      "outputs": []
    },
    {
      "cell_type": "code",
      "metadata": {
        "id": "jSigf2c316Kb"
      },
      "source": [
        "import numpy as np\r\n",
        "import matplotlib.pyplot as plt\r\n",
        "\r\n",
        "class DistributionBasedStochasticTests:\r\n",
        "  \r\n",
        "  \"\"\"\r\n",
        "  The idea is to create random series' of data based on various probability \r\n",
        "  distributions\r\n",
        "  \"\"\"\r\n",
        "\r\n",
        "  def normal_distribution(mu, sigma, size):\r\n",
        "\r\n",
        "    \"\"\"\r\n",
        "    Create a random series of data based on a normal distribution.\r\n",
        "    \"\"\"\r\n",
        "\r\n",
        "    sample = np.random.normal(mu,sigma,size)\r\n",
        "\r\n",
        "    count = 3\r\n",
        "\r\n",
        "    while (mu != np.mean(sample) or sigma != np.std(sample)) and count > 0:\r\n",
        "      sample = mu + (sample-np.mean(sample))*sigma/np.std(sample)\r\n",
        "      count -= 1\r\n",
        "    \r\n",
        "    return sample\r\n",
        "\r\n",
        "#class FrequencyBasedStochasticTests:\r\n",
        "\r\n",
        "  \"\"\"\r\n",
        "  The idea is to create random series' of data based embedded within varying\r\n",
        "  signals and frequencies via the fourier series.\r\n",
        "  \"\"\"\r\n",
        "\r\n",
        "test = DistributionBasedStochasticTests\r\n",
        "sample = test.normal_distribution(100,10,10000)\r\n",
        "plt.plot(sample)\r\n",
        "plt.show()\r\n",
        "\r\n",
        "print(np.mean(sample))\r\n",
        "print(np.std(sample))"
      ],
      "execution_count": null,
      "outputs": []
    },
    {
      "cell_type": "code",
      "metadata": {
        "id": "v_Ex8PTHElHB"
      },
      "source": [
        "from scipy import signal\r\n",
        "\r\n",
        "class FrequencyBasedTests:\r\n",
        "\r\n",
        "  \"\"\"\r\n",
        "  The idea is to create tests based on varying frequencies and signals. This can\r\n",
        "  be achieved using the fourier series. You could probably use a table!\r\n",
        "  Probably would be easier.\r\n",
        "  \"\"\"\r\n",
        "\r\n",
        "\r\n",
        "  def time_vector_generator(frequency, size):\r\n",
        "    \r\n",
        "    \"\"\"\r\n",
        "    Yields a time vector after adjusting for frequency. The input frequency is \r\n",
        "    in degrees\r\n",
        "    \"\"\"\r\n",
        "    \r\n",
        "    time = np.arange(size)\r\n",
        "    time = 2 * np.pi * frequency * time / 180\r\n",
        "    return time\r\n",
        "\r\n",
        "\r\n",
        "  def sine_wave(time):\r\n",
        "\r\n",
        "    \"\"\"\r\n",
        "    Yields a sine wave vector given a time vector.\r\n",
        "    \"\"\"\r\n",
        "\r\n",
        "    return np.sin(time)\r\n",
        "  \r\n",
        "\r\n",
        "  def square_wave(time, duty):\r\n",
        "\r\n",
        "    \"\"\"\r\n",
        "    Yields a square wave vector given a time vector, and duty.\r\n",
        "    \"\"\"\r\n",
        "\r\n",
        "    return signal.square(time, duty)\r\n",
        "\r\n",
        "\r\n",
        "  def sawtooth_wave(time, width):\r\n",
        "\r\n",
        "    \"\"\"\r\n",
        "    Yields a sawtooth wave vector given a time vector, and width.\r\n",
        "    \"\"\"\r\n",
        "\r\n",
        "    return signal.sawtooth(time, width)\r\n",
        "\r\n",
        "\r\n",
        "test = FrequencyBasedTests\r\n",
        "time = test.time_vector_generator(1,360)\r\n",
        "plt.plot(test.sine_wave(time))\r\n",
        "plt.plot(test.square_wave(time,0.5))\r\n",
        "plt.plot(test.sawtooth_wave(time,0.5))\r\n",
        "plt.show()"
      ],
      "execution_count": null,
      "outputs": []
    }
  ]
}